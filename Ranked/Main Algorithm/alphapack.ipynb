{
 "cells": [
  {
   "cell_type": "code",
   "execution_count": 1,
   "metadata": {},
   "outputs": [],
   "source": [
    "import random"
   ]
  },
  {
   "cell_type": "code",
   "execution_count": 2,
   "metadata": {},
   "outputs": [],
   "source": [
    "match_list = []\n",
    "match_data = []\n",
    "\n",
    "def chance(percent):\n",
    "    random_number = random.random()\n",
    "    return random_number < (percent / 100)\n",
    "\n",
    "def alphapack():\n",
    "    match_list = [random.randint(0, 1) for i in range(40)]\n",
    "    percent = 0\n",
    "    matchs = 0\n",
    "    print(\"Alpha Pack Simulation (Ranked Match)\")\n",
    "    print(f\"Current Chance: {percent}%\")\n",
    "    print()\n",
    "    for match in match_list:\n",
    "        print(f\"Match {matchs + 1}\")\n",
    "        result_text = \"Win(+3.0%)\" if match == 1 else \"Lose(+2.5%)\"\n",
    "        print(f\"Match Result: {result_text}\")\n",
    "\n",
    "        if match == 1:\n",
    "            percent = percent + 3\n",
    "            matchs = matchs + 1\n",
    "            if chance(percent):\n",
    "                print(f\"Current Chance: {percent}%\")\n",
    "                print(\"You have got alpha pack\")\n",
    "                print()\n",
    "                print(\"You have got alpha pack in \" + str(matchs) + \" matches\")\n",
    "                print()\n",
    "                match_data.append(matchs)\n",
    "                return \n",
    "        elif match == 0:\n",
    "            percent = percent + 2.5\n",
    "            matchs = matchs + 1\n",
    "\n",
    "        print(f\"Current Chance: {percent}%\")\n",
    "        print()"
   ]
  },
  {
   "cell_type": "code",
   "execution_count": 3,
   "metadata": {},
   "outputs": [
    {
     "name": "stdout",
     "output_type": "stream",
     "text": [
      "Alpha Pack Simulation (Ranked Match)\n",
      "Current Chance: 0%\n",
      "\n",
      "Match 1\n",
      "Match Result: Win(+3.0%)\n",
      "Current Chance: 3%\n",
      "\n",
      "Match 2\n",
      "Match Result: Win(+3.0%)\n",
      "Current Chance: 6%\n",
      "\n",
      "Match 3\n",
      "Match Result: Lose(+2.5%)\n",
      "Current Chance: 8.5%\n",
      "\n",
      "Match 4\n",
      "Match Result: Lose(+2.5%)\n",
      "Current Chance: 11.0%\n",
      "\n",
      "Match 5\n",
      "Match Result: Lose(+2.5%)\n",
      "Current Chance: 13.5%\n",
      "\n",
      "Match 6\n",
      "Match Result: Lose(+2.5%)\n",
      "Current Chance: 16.0%\n",
      "\n",
      "Match 7\n",
      "Match Result: Lose(+2.5%)\n",
      "Current Chance: 18.5%\n",
      "\n",
      "Match 8\n",
      "Match Result: Lose(+2.5%)\n",
      "Current Chance: 21.0%\n",
      "\n",
      "Match 9\n",
      "Match Result: Lose(+2.5%)\n",
      "Current Chance: 23.5%\n",
      "\n",
      "Match 10\n",
      "Match Result: Win(+3.0%)\n",
      "Current Chance: 26.5%\n",
      "\n",
      "Match 11\n",
      "Match Result: Win(+3.0%)\n",
      "Current Chance: 29.5%\n",
      "You have got alpha pack\n",
      "\n",
      "You have got alpha pack in 11 matches\n",
      "\n"
     ]
    }
   ],
   "source": [
    "alphapack()"
   ]
  }
 ],
 "metadata": {
  "kernelspec": {
   "display_name": "Python 3 (ipykernel)",
   "language": "python",
   "name": "python3"
  },
  "language_info": {
   "codemirror_mode": {
    "name": "ipython",
    "version": 3
   },
   "file_extension": ".py",
   "mimetype": "text/x-python",
   "name": "python",
   "nbconvert_exporter": "python",
   "pygments_lexer": "ipython3",
   "version": "3.8.19"
  }
 },
 "nbformat": 4,
 "nbformat_minor": 4
}
