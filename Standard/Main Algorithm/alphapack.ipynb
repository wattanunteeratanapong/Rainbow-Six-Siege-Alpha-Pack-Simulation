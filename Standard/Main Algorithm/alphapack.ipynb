{
 "cells": [
  {
   "cell_type": "code",
   "execution_count": 1,
   "metadata": {},
   "outputs": [],
   "source": [
    "import random"
   ]
  },
  {
   "cell_type": "code",
   "execution_count": 2,
   "metadata": {},
   "outputs": [],
   "source": [
    "match_list = []\n",
    "match_data = []\n",
    "\n",
    "def chance(percent):\n",
    "    random_number = random.random()\n",
    "    return random_number < (percent / 100)\n",
    "\n",
    "def alphapack():\n",
    "    match_list = [random.randint(0, 1) for i in range(40)]\n",
    "    percent = 0\n",
    "    matchs = 0\n",
    "    for match in match_list:\n",
    "        if match == 1:\n",
    "            percent = percent + 2\n",
    "            matchs = matchs + 1\n",
    "            if chance(percent):\n",
    "                print(\"\\n You have got alpha pack in \" + str(matchs) + \" matches\\n\")\n",
    "                match_data.append(matchs)\n",
    "                return \n",
    "        elif match == 0:\n",
    "            percent = percent + 1.5\n",
    "            matchs = matchs + 1"
   ]
  },
  {
   "cell_type": "code",
   "execution_count": null,
   "metadata": {},
   "outputs": [],
   "source": [
    "alphapack()"
   ]
  }
 ],
 "metadata": {
  "kernelspec": {
   "display_name": "Python 3",
   "language": "python",
   "name": "python3"
  },
  "language_info": {
   "codemirror_mode": {
    "name": "ipython",
    "version": 3
   },
   "file_extension": ".py",
   "mimetype": "text/x-python",
   "name": "python",
   "nbconvert_exporter": "python",
   "pygments_lexer": "ipython3",
   "version": "3.6.6"
  }
 },
 "nbformat": 4,
 "nbformat_minor": 2
}
